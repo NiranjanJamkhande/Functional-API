{
  "nbformat": 4,
  "nbformat_minor": 0,
  "metadata": {
    "colab": {
      "name": "Fun.API Energy Efficiency problem.ipynb",
      "provenance": [],
      "collapsed_sections": [],
      "mount_file_id": "1x5G8ryTm2sR4aAGyVekCzXp8s_pM_Rn0",
      "authorship_tag": "ABX9TyPTFnXBVtZKkyqAFeSgL3cB",
      "include_colab_link": true
    },
    "kernelspec": {
      "name": "python3",
      "display_name": "Python 3"
    },
    "accelerator": "GPU"
  },
  "cells": [
    {
      "cell_type": "markdown",
      "metadata": {
        "id": "view-in-github",
        "colab_type": "text"
      },
      "source": [
        "<a href=\"https://colab.research.google.com/github/NiranjanJamkhande/Functional-API/blob/main/Fun_API_Energy_Efficiency_problem.ipynb\" target=\"_parent\"><img src=\"https://colab.research.google.com/assets/colab-badge.svg\" alt=\"Open In Colab\"/></a>"
      ]
    },
    {
      "cell_type": "code",
      "metadata": {
        "id": "lMvmnD5AFfPR"
      },
      "source": [
        "import numpy as np\r\n",
        "import pandas as pd\r\n",
        "import matplotlib.pyplot as plt\r\n",
        "import seaborn as sns"
      ],
      "execution_count": 1,
      "outputs": []
    },
    {
      "cell_type": "code",
      "metadata": {
        "colab": {
          "base_uri": "https://localhost:8080/",
          "height": 204
        },
        "id": "7EKAYxWBHio7",
        "outputId": "d67ad20a-e6f2-4dbd-caf0-5066c75ea621"
      },
      "source": [
        "df = pd.read_csv(r'/content/drive/MyDrive/Datasets ML/EF.csv')\r\n",
        "df.head()"
      ],
      "execution_count": 2,
      "outputs": [
        {
          "output_type": "execute_result",
          "data": {
            "text/html": [
              "<div>\n",
              "<style scoped>\n",
              "    .dataframe tbody tr th:only-of-type {\n",
              "        vertical-align: middle;\n",
              "    }\n",
              "\n",
              "    .dataframe tbody tr th {\n",
              "        vertical-align: top;\n",
              "    }\n",
              "\n",
              "    .dataframe thead th {\n",
              "        text-align: right;\n",
              "    }\n",
              "</style>\n",
              "<table border=\"1\" class=\"dataframe\">\n",
              "  <thead>\n",
              "    <tr style=\"text-align: right;\">\n",
              "      <th></th>\n",
              "      <th>X1</th>\n",
              "      <th>X2</th>\n",
              "      <th>X3</th>\n",
              "      <th>X4</th>\n",
              "      <th>X5</th>\n",
              "      <th>X6</th>\n",
              "      <th>X7</th>\n",
              "      <th>X8</th>\n",
              "      <th>Y1</th>\n",
              "      <th>Y2</th>\n",
              "    </tr>\n",
              "  </thead>\n",
              "  <tbody>\n",
              "    <tr>\n",
              "      <th>0</th>\n",
              "      <td>0.98</td>\n",
              "      <td>514.5</td>\n",
              "      <td>294.0</td>\n",
              "      <td>110.25</td>\n",
              "      <td>7.0</td>\n",
              "      <td>2</td>\n",
              "      <td>0.0</td>\n",
              "      <td>0</td>\n",
              "      <td>15.55</td>\n",
              "      <td>21.33</td>\n",
              "    </tr>\n",
              "    <tr>\n",
              "      <th>1</th>\n",
              "      <td>0.98</td>\n",
              "      <td>514.5</td>\n",
              "      <td>294.0</td>\n",
              "      <td>110.25</td>\n",
              "      <td>7.0</td>\n",
              "      <td>3</td>\n",
              "      <td>0.0</td>\n",
              "      <td>0</td>\n",
              "      <td>15.55</td>\n",
              "      <td>21.33</td>\n",
              "    </tr>\n",
              "    <tr>\n",
              "      <th>2</th>\n",
              "      <td>0.98</td>\n",
              "      <td>514.5</td>\n",
              "      <td>294.0</td>\n",
              "      <td>110.25</td>\n",
              "      <td>7.0</td>\n",
              "      <td>4</td>\n",
              "      <td>0.0</td>\n",
              "      <td>0</td>\n",
              "      <td>15.55</td>\n",
              "      <td>21.33</td>\n",
              "    </tr>\n",
              "    <tr>\n",
              "      <th>3</th>\n",
              "      <td>0.98</td>\n",
              "      <td>514.5</td>\n",
              "      <td>294.0</td>\n",
              "      <td>110.25</td>\n",
              "      <td>7.0</td>\n",
              "      <td>5</td>\n",
              "      <td>0.0</td>\n",
              "      <td>0</td>\n",
              "      <td>15.55</td>\n",
              "      <td>21.33</td>\n",
              "    </tr>\n",
              "    <tr>\n",
              "      <th>4</th>\n",
              "      <td>0.90</td>\n",
              "      <td>563.5</td>\n",
              "      <td>318.5</td>\n",
              "      <td>122.50</td>\n",
              "      <td>7.0</td>\n",
              "      <td>2</td>\n",
              "      <td>0.0</td>\n",
              "      <td>0</td>\n",
              "      <td>20.84</td>\n",
              "      <td>28.28</td>\n",
              "    </tr>\n",
              "  </tbody>\n",
              "</table>\n",
              "</div>"
            ],
            "text/plain": [
              "     X1     X2     X3      X4   X5  X6   X7  X8     Y1     Y2\n",
              "0  0.98  514.5  294.0  110.25  7.0   2  0.0   0  15.55  21.33\n",
              "1  0.98  514.5  294.0  110.25  7.0   3  0.0   0  15.55  21.33\n",
              "2  0.98  514.5  294.0  110.25  7.0   4  0.0   0  15.55  21.33\n",
              "3  0.98  514.5  294.0  110.25  7.0   5  0.0   0  15.55  21.33\n",
              "4  0.90  563.5  318.5  122.50  7.0   2  0.0   0  20.84  28.28"
            ]
          },
          "metadata": {
            "tags": []
          },
          "execution_count": 2
        }
      ]
    },
    {
      "cell_type": "code",
      "metadata": {
        "colab": {
          "base_uri": "https://localhost:8080/",
          "height": 204
        },
        "id": "DMUjg9GxHuFJ",
        "outputId": "2f3c4c75-8d45-49ea-a0d4-cdb7f51fc949"
      },
      "source": [
        "X = df.drop(['Y1','Y2'],axis=1)\r\n",
        "X.head()"
      ],
      "execution_count": 3,
      "outputs": [
        {
          "output_type": "execute_result",
          "data": {
            "text/html": [
              "<div>\n",
              "<style scoped>\n",
              "    .dataframe tbody tr th:only-of-type {\n",
              "        vertical-align: middle;\n",
              "    }\n",
              "\n",
              "    .dataframe tbody tr th {\n",
              "        vertical-align: top;\n",
              "    }\n",
              "\n",
              "    .dataframe thead th {\n",
              "        text-align: right;\n",
              "    }\n",
              "</style>\n",
              "<table border=\"1\" class=\"dataframe\">\n",
              "  <thead>\n",
              "    <tr style=\"text-align: right;\">\n",
              "      <th></th>\n",
              "      <th>X1</th>\n",
              "      <th>X2</th>\n",
              "      <th>X3</th>\n",
              "      <th>X4</th>\n",
              "      <th>X5</th>\n",
              "      <th>X6</th>\n",
              "      <th>X7</th>\n",
              "      <th>X8</th>\n",
              "    </tr>\n",
              "  </thead>\n",
              "  <tbody>\n",
              "    <tr>\n",
              "      <th>0</th>\n",
              "      <td>0.98</td>\n",
              "      <td>514.5</td>\n",
              "      <td>294.0</td>\n",
              "      <td>110.25</td>\n",
              "      <td>7.0</td>\n",
              "      <td>2</td>\n",
              "      <td>0.0</td>\n",
              "      <td>0</td>\n",
              "    </tr>\n",
              "    <tr>\n",
              "      <th>1</th>\n",
              "      <td>0.98</td>\n",
              "      <td>514.5</td>\n",
              "      <td>294.0</td>\n",
              "      <td>110.25</td>\n",
              "      <td>7.0</td>\n",
              "      <td>3</td>\n",
              "      <td>0.0</td>\n",
              "      <td>0</td>\n",
              "    </tr>\n",
              "    <tr>\n",
              "      <th>2</th>\n",
              "      <td>0.98</td>\n",
              "      <td>514.5</td>\n",
              "      <td>294.0</td>\n",
              "      <td>110.25</td>\n",
              "      <td>7.0</td>\n",
              "      <td>4</td>\n",
              "      <td>0.0</td>\n",
              "      <td>0</td>\n",
              "    </tr>\n",
              "    <tr>\n",
              "      <th>3</th>\n",
              "      <td>0.98</td>\n",
              "      <td>514.5</td>\n",
              "      <td>294.0</td>\n",
              "      <td>110.25</td>\n",
              "      <td>7.0</td>\n",
              "      <td>5</td>\n",
              "      <td>0.0</td>\n",
              "      <td>0</td>\n",
              "    </tr>\n",
              "    <tr>\n",
              "      <th>4</th>\n",
              "      <td>0.90</td>\n",
              "      <td>563.5</td>\n",
              "      <td>318.5</td>\n",
              "      <td>122.50</td>\n",
              "      <td>7.0</td>\n",
              "      <td>2</td>\n",
              "      <td>0.0</td>\n",
              "      <td>0</td>\n",
              "    </tr>\n",
              "  </tbody>\n",
              "</table>\n",
              "</div>"
            ],
            "text/plain": [
              "     X1     X2     X3      X4   X5  X6   X7  X8\n",
              "0  0.98  514.5  294.0  110.25  7.0   2  0.0   0\n",
              "1  0.98  514.5  294.0  110.25  7.0   3  0.0   0\n",
              "2  0.98  514.5  294.0  110.25  7.0   4  0.0   0\n",
              "3  0.98  514.5  294.0  110.25  7.0   5  0.0   0\n",
              "4  0.90  563.5  318.5  122.50  7.0   2  0.0   0"
            ]
          },
          "metadata": {
            "tags": []
          },
          "execution_count": 3
        }
      ]
    },
    {
      "cell_type": "code",
      "metadata": {
        "colab": {
          "base_uri": "https://localhost:8080/",
          "height": 204
        },
        "id": "AoU8A6EZHxXW",
        "outputId": "298d79e5-f37c-43f7-b50a-6082c785f648"
      },
      "source": [
        "y = df[['Y1','Y2']]\r\n",
        "y.head()"
      ],
      "execution_count": 4,
      "outputs": [
        {
          "output_type": "execute_result",
          "data": {
            "text/html": [
              "<div>\n",
              "<style scoped>\n",
              "    .dataframe tbody tr th:only-of-type {\n",
              "        vertical-align: middle;\n",
              "    }\n",
              "\n",
              "    .dataframe tbody tr th {\n",
              "        vertical-align: top;\n",
              "    }\n",
              "\n",
              "    .dataframe thead th {\n",
              "        text-align: right;\n",
              "    }\n",
              "</style>\n",
              "<table border=\"1\" class=\"dataframe\">\n",
              "  <thead>\n",
              "    <tr style=\"text-align: right;\">\n",
              "      <th></th>\n",
              "      <th>Y1</th>\n",
              "      <th>Y2</th>\n",
              "    </tr>\n",
              "  </thead>\n",
              "  <tbody>\n",
              "    <tr>\n",
              "      <th>0</th>\n",
              "      <td>15.55</td>\n",
              "      <td>21.33</td>\n",
              "    </tr>\n",
              "    <tr>\n",
              "      <th>1</th>\n",
              "      <td>15.55</td>\n",
              "      <td>21.33</td>\n",
              "    </tr>\n",
              "    <tr>\n",
              "      <th>2</th>\n",
              "      <td>15.55</td>\n",
              "      <td>21.33</td>\n",
              "    </tr>\n",
              "    <tr>\n",
              "      <th>3</th>\n",
              "      <td>15.55</td>\n",
              "      <td>21.33</td>\n",
              "    </tr>\n",
              "    <tr>\n",
              "      <th>4</th>\n",
              "      <td>20.84</td>\n",
              "      <td>28.28</td>\n",
              "    </tr>\n",
              "  </tbody>\n",
              "</table>\n",
              "</div>"
            ],
            "text/plain": [
              "      Y1     Y2\n",
              "0  15.55  21.33\n",
              "1  15.55  21.33\n",
              "2  15.55  21.33\n",
              "3  15.55  21.33\n",
              "4  20.84  28.28"
            ]
          },
          "metadata": {
            "tags": []
          },
          "execution_count": 4
        }
      ]
    },
    {
      "cell_type": "code",
      "metadata": {
        "id": "la15_py-H0kC"
      },
      "source": [
        "from sklearn.preprocessing import MinMaxScaler\r\n",
        "scalarX = MinMaxScaler()\r\n",
        "scalarY = MinMaxScaler()\r\n",
        "\r\n",
        "X = scalarX.fit_transform(X)\r\n",
        "y = scalarY.fit_transform(y)"
      ],
      "execution_count": 5,
      "outputs": []
    },
    {
      "cell_type": "code",
      "metadata": {
        "id": "PRTZIAa0H43H"
      },
      "source": [
        "from sklearn.model_selection import train_test_split \r\n",
        "X_train, X_test, y_train, y_test = train_test_split(X,y, test_size = 0.2, \r\n",
        "                                                    random_state=99)"
      ],
      "execution_count": 6,
      "outputs": []
    },
    {
      "cell_type": "code",
      "metadata": {
        "colab": {
          "base_uri": "https://localhost:8080/"
        },
        "id": "Hrs_24TYH7v1",
        "outputId": "173b99db-f171-4336-9437-625f3cbd6238"
      },
      "source": [
        "y1 = y[:,0]\r\n",
        "y1[:5]\r\n",
        "\r\n",
        "y2 = y[:,1]\r\n",
        "y2[:5]"
      ],
      "execution_count": 8,
      "outputs": [
        {
          "output_type": "execute_result",
          "data": {
            "text/plain": [
              "array([0.28090493, 0.28090493, 0.28090493, 0.28090493, 0.46808511])"
            ]
          },
          "metadata": {
            "tags": []
          },
          "execution_count": 8
        }
      ]
    },
    {
      "cell_type": "code",
      "metadata": {
        "id": "7zybZ6gFIBrV"
      },
      "source": [
        "import tensorflow as tf\r\n",
        "tf.random.set_seed(99)\r\n",
        "from tensorflow.keras.models import Model\r\n",
        "from tensorflow.keras.layers import Dense, Activation, Input\r\n",
        "from tensorflow.keras import metrics\r\n",
        "from tensorflow.python.keras.utils.vis_utils import plot_model"
      ],
      "execution_count": 10,
      "outputs": []
    },
    {
      "cell_type": "code",
      "metadata": {
        "colab": {
          "base_uri": "https://localhost:8080/"
        },
        "id": "zxTHydZaIGnn",
        "outputId": "1b8a7814-020f-4b4d-c6bf-a5f6da5eb765"
      },
      "source": [
        "input_layer = Input(shape = X_train.shape[1])\r\n",
        "dense_1 = tf.keras.layers.Dense(30, activation='relu',name=\"Dense_1\")(input_layer)\r\n",
        "dense_2 = tf.keras.layers.Dense(25, activation='relu', name = \"Dense_2\")(dense_1)\r\n",
        "dense_3 = tf.keras.layers.Dense(20, activation='relu', name = \"Dense_3\")(dense_2)\r\n",
        "y1_output = tf.keras.layers.Dense(1, activation='relu', name = \"y1_output\")(dense_3)\r\n",
        "dense_4 = tf.keras.layers.Dense(15, activation='relu', name = \"Dense_4\")(dense_2)\r\n",
        "y2_output = tf.keras.layers.Dense(1, activation='relu', name = \"y2_output\")(dense_4)\r\n",
        "model = Model(inputs = input_layer, outputs = [y1_output,y2_output])\r\n",
        "print(model.summary())\r\n",
        "model.compile(optimizer='adam', loss={'y1_output':'mse','y2_output':'mse'},\r\n",
        "                                metrics={'y1_output':metrics.RootMeanSquaredError(),\r\n",
        "                                         'y2_output':metrics.RootMeanSquaredError()})"
      ],
      "execution_count": 11,
      "outputs": [
        {
          "output_type": "stream",
          "text": [
            "Model: \"model\"\n",
            "__________________________________________________________________________________________________\n",
            "Layer (type)                    Output Shape         Param #     Connected to                     \n",
            "==================================================================================================\n",
            "input_1 (InputLayer)            [(None, 8)]          0                                            \n",
            "__________________________________________________________________________________________________\n",
            "Dense_1 (Dense)                 (None, 30)           270         input_1[0][0]                    \n",
            "__________________________________________________________________________________________________\n",
            "Dense_2 (Dense)                 (None, 25)           775         Dense_1[0][0]                    \n",
            "__________________________________________________________________________________________________\n",
            "Dense_3 (Dense)                 (None, 20)           520         Dense_2[0][0]                    \n",
            "__________________________________________________________________________________________________\n",
            "Dense_4 (Dense)                 (None, 15)           390         Dense_2[0][0]                    \n",
            "__________________________________________________________________________________________________\n",
            "y1_output (Dense)               (None, 1)            21          Dense_3[0][0]                    \n",
            "__________________________________________________________________________________________________\n",
            "y2_output (Dense)               (None, 1)            16          Dense_4[0][0]                    \n",
            "==================================================================================================\n",
            "Total params: 1,992\n",
            "Trainable params: 1,992\n",
            "Non-trainable params: 0\n",
            "__________________________________________________________________________________________________\n",
            "None\n"
          ],
          "name": "stdout"
        }
      ]
    },
    {
      "cell_type": "code",
      "metadata": {
        "colab": {
          "base_uri": "https://localhost:8080/",
          "height": 466
        },
        "id": "SuRdycXZNLbs",
        "outputId": "4c2fd27b-cf23-4fa1-d704-5c4fda3a9e11"
      },
      "source": [
        "plot_model(model)"
      ],
      "execution_count": 31,
      "outputs": [
        {
          "output_type": "execute_result",
          "data": {
            "image/png": "[encoded data removed]",
            "text/plain": [
              "<IPython.core.display.Image object>"
            ]
          },
          "metadata": {
            "tags": []
          },
          "execution_count": 31
        }
      ]
    },
    {
      "cell_type": "code",
      "metadata": {
        "id": "cK4-vKtAISBI"
      },
      "source": [
        "from tensorflow.keras.callbacks import EarlyStopping\r\n",
        "monitor = EarlyStopping(monitor='val_y2_output_root_mean_squared_error', min_delta=0.01, \r\n",
        "                        patience=20, verbose=2, mode='auto',\r\n",
        "                        restore_best_weights=True)"
      ],
      "execution_count": 12,
      "outputs": []
    },
    {
      "cell_type": "code",
      "metadata": {
        "colab": {
          "base_uri": "https://localhost:8080/"
        },
        "id": "PKueCXNkIXK9",
        "outputId": "12f7c2e4-78ea-4a71-a315-aeccea7395f1"
      },
      "source": [
        "history = model.fit(X_train,y_train,validation_data=(X_test,y_test),\r\n",
        "                    verbose=2,epochs=50, callbacks = [monitor])"
      ],
      "execution_count": 13,
      "outputs": [
        {
          "output_type": "stream",
          "text": [
            "Epoch 1/50\n",
            "20/20 - 2s - loss: 0.1119 - y1_output_loss: 0.0839 - y2_output_loss: 0.0280 - y1_output_root_mean_squared_error: 0.2897 - y2_output_root_mean_squared_error: 0.1674 - val_loss: 0.0353 - val_y1_output_loss: 0.0194 - val_y2_output_loss: 0.0159 - val_y1_output_root_mean_squared_error: 0.1394 - val_y2_output_root_mean_squared_error: 0.1261\n",
            "Epoch 2/50\n",
            "20/20 - 0s - loss: 0.0293 - y1_output_loss: 0.0140 - y2_output_loss: 0.0153 - y1_output_root_mean_squared_error: 0.1182 - y2_output_root_mean_squared_error: 0.1237 - val_loss: 0.0265 - val_y1_output_loss: 0.0146 - val_y2_output_loss: 0.0119 - val_y1_output_root_mean_squared_error: 0.1207 - val_y2_output_root_mean_squared_error: 0.1091\n",
            "Epoch 3/50\n",
            "20/20 - 0s - loss: 0.0243 - y1_output_loss: 0.0118 - y2_output_loss: 0.0125 - y1_output_root_mean_squared_error: 0.1086 - y2_output_root_mean_squared_error: 0.1118 - val_loss: 0.0226 - val_y1_output_loss: 0.0122 - val_y2_output_loss: 0.0104 - val_y1_output_root_mean_squared_error: 0.1105 - val_y2_output_root_mean_squared_error: 0.1020\n",
            "Epoch 4/50\n",
            "20/20 - 0s - loss: 0.0212 - y1_output_loss: 0.0106 - y2_output_loss: 0.0107 - y1_output_root_mean_squared_error: 0.1029 - y2_output_root_mean_squared_error: 0.1032 - val_loss: 0.0199 - val_y1_output_loss: 0.0105 - val_y2_output_loss: 0.0094 - val_y1_output_root_mean_squared_error: 0.1024 - val_y2_output_root_mean_squared_error: 0.0970\n",
            "Epoch 5/50\n",
            "20/20 - 0s - loss: 0.0193 - y1_output_loss: 0.0098 - y2_output_loss: 0.0095 - y1_output_root_mean_squared_error: 0.0990 - y2_output_root_mean_squared_error: 0.0973 - val_loss: 0.0186 - val_y1_output_loss: 0.0096 - val_y2_output_loss: 0.0090 - val_y1_output_root_mean_squared_error: 0.0982 - val_y2_output_root_mean_squared_error: 0.0947\n",
            "Epoch 6/50\n",
            "20/20 - 0s - loss: 0.0178 - y1_output_loss: 0.0089 - y2_output_loss: 0.0088 - y1_output_root_mean_squared_error: 0.0946 - y2_output_root_mean_squared_error: 0.0940 - val_loss: 0.0176 - val_y1_output_loss: 0.0090 - val_y2_output_loss: 0.0085 - val_y1_output_root_mean_squared_error: 0.0951 - val_y2_output_root_mean_squared_error: 0.0924\n",
            "Epoch 7/50\n",
            "20/20 - 0s - loss: 0.0170 - y1_output_loss: 0.0086 - y2_output_loss: 0.0085 - y1_output_root_mean_squared_error: 0.0925 - y2_output_root_mean_squared_error: 0.0920 - val_loss: 0.0171 - val_y1_output_loss: 0.0087 - val_y2_output_loss: 0.0084 - val_y1_output_root_mean_squared_error: 0.0932 - val_y2_output_root_mean_squared_error: 0.0918\n",
            "Epoch 8/50\n",
            "20/20 - 0s - loss: 0.0163 - y1_output_loss: 0.0082 - y2_output_loss: 0.0082 - y1_output_root_mean_squared_error: 0.0904 - y2_output_root_mean_squared_error: 0.0904 - val_loss: 0.0169 - val_y1_output_loss: 0.0085 - val_y2_output_loss: 0.0083 - val_y1_output_root_mean_squared_error: 0.0923 - val_y2_output_root_mean_squared_error: 0.0913\n",
            "Epoch 9/50\n",
            "20/20 - 0s - loss: 0.0160 - y1_output_loss: 0.0081 - y2_output_loss: 0.0079 - y1_output_root_mean_squared_error: 0.0898 - y2_output_root_mean_squared_error: 0.0891 - val_loss: 0.0170 - val_y1_output_loss: 0.0085 - val_y2_output_loss: 0.0085 - val_y1_output_root_mean_squared_error: 0.0923 - val_y2_output_root_mean_squared_error: 0.0921\n",
            "Epoch 10/50\n",
            "20/20 - 0s - loss: 0.0160 - y1_output_loss: 0.0081 - y2_output_loss: 0.0079 - y1_output_root_mean_squared_error: 0.0899 - y2_output_root_mean_squared_error: 0.0891 - val_loss: 0.0167 - val_y1_output_loss: 0.0084 - val_y2_output_loss: 0.0082 - val_y1_output_root_mean_squared_error: 0.0918 - val_y2_output_root_mean_squared_error: 0.0908\n",
            "Epoch 11/50\n",
            "20/20 - 0s - loss: 0.0158 - y1_output_loss: 0.0079 - y2_output_loss: 0.0079 - y1_output_root_mean_squared_error: 0.0887 - y2_output_root_mean_squared_error: 0.0889 - val_loss: 0.0164 - val_y1_output_loss: 0.0082 - val_y2_output_loss: 0.0082 - val_y1_output_root_mean_squared_error: 0.0905 - val_y2_output_root_mean_squared_error: 0.0904\n",
            "Epoch 12/50\n",
            "20/20 - 0s - loss: 0.0155 - y1_output_loss: 0.0077 - y2_output_loss: 0.0078 - y1_output_root_mean_squared_error: 0.0880 - y2_output_root_mean_squared_error: 0.0880 - val_loss: 0.0162 - val_y1_output_loss: 0.0081 - val_y2_output_loss: 0.0081 - val_y1_output_root_mean_squared_error: 0.0900 - val_y2_output_root_mean_squared_error: 0.0899\n",
            "Epoch 13/50\n",
            "20/20 - 0s - loss: 0.0153 - y1_output_loss: 0.0077 - y2_output_loss: 0.0076 - y1_output_root_mean_squared_error: 0.0876 - y2_output_root_mean_squared_error: 0.0874 - val_loss: 0.0161 - val_y1_output_loss: 0.0081 - val_y2_output_loss: 0.0080 - val_y1_output_root_mean_squared_error: 0.0899 - val_y2_output_root_mean_squared_error: 0.0896\n",
            "Epoch 14/50\n",
            "20/20 - 0s - loss: 0.0152 - y1_output_loss: 0.0076 - y2_output_loss: 0.0076 - y1_output_root_mean_squared_error: 0.0875 - y2_output_root_mean_squared_error: 0.0870 - val_loss: 0.0159 - val_y1_output_loss: 0.0080 - val_y2_output_loss: 0.0079 - val_y1_output_root_mean_squared_error: 0.0894 - val_y2_output_root_mean_squared_error: 0.0892\n",
            "Epoch 15/50\n",
            "20/20 - 0s - loss: 0.0154 - y1_output_loss: 0.0077 - y2_output_loss: 0.0077 - y1_output_root_mean_squared_error: 0.0879 - y2_output_root_mean_squared_error: 0.0877 - val_loss: 0.0163 - val_y1_output_loss: 0.0081 - val_y2_output_loss: 0.0082 - val_y1_output_root_mean_squared_error: 0.0902 - val_y2_output_root_mean_squared_error: 0.0903\n",
            "Epoch 16/50\n",
            "20/20 - 0s - loss: 0.0154 - y1_output_loss: 0.0078 - y2_output_loss: 0.0077 - y1_output_root_mean_squared_error: 0.0881 - y2_output_root_mean_squared_error: 0.0875 - val_loss: 0.0171 - val_y1_output_loss: 0.0085 - val_y2_output_loss: 0.0086 - val_y1_output_root_mean_squared_error: 0.0922 - val_y2_output_root_mean_squared_error: 0.0928\n",
            "Epoch 17/50\n",
            "20/20 - 0s - loss: 0.0156 - y1_output_loss: 0.0079 - y2_output_loss: 0.0077 - y1_output_root_mean_squared_error: 0.0886 - y2_output_root_mean_squared_error: 0.0880 - val_loss: 0.0161 - val_y1_output_loss: 0.0080 - val_y2_output_loss: 0.0081 - val_y1_output_root_mean_squared_error: 0.0895 - val_y2_output_root_mean_squared_error: 0.0898\n",
            "Epoch 18/50\n",
            "20/20 - 0s - loss: 0.0155 - y1_output_loss: 0.0079 - y2_output_loss: 0.0076 - y1_output_root_mean_squared_error: 0.0888 - y2_output_root_mean_squared_error: 0.0872 - val_loss: 0.0160 - val_y1_output_loss: 0.0082 - val_y2_output_loss: 0.0078 - val_y1_output_root_mean_squared_error: 0.0904 - val_y2_output_root_mean_squared_error: 0.0885\n",
            "Epoch 19/50\n",
            "20/20 - 0s - loss: 0.0149 - y1_output_loss: 0.0076 - y2_output_loss: 0.0073 - y1_output_root_mean_squared_error: 0.0870 - y2_output_root_mean_squared_error: 0.0856 - val_loss: 0.0155 - val_y1_output_loss: 0.0078 - val_y2_output_loss: 0.0077 - val_y1_output_root_mean_squared_error: 0.0882 - val_y2_output_root_mean_squared_error: 0.0877\n",
            "Epoch 20/50\n",
            "20/20 - 0s - loss: 0.0145 - y1_output_loss: 0.0073 - y2_output_loss: 0.0072 - y1_output_root_mean_squared_error: 0.0854 - y2_output_root_mean_squared_error: 0.0847 - val_loss: 0.0154 - val_y1_output_loss: 0.0077 - val_y2_output_loss: 0.0076 - val_y1_output_root_mean_squared_error: 0.0879 - val_y2_output_root_mean_squared_error: 0.0874\n",
            "Epoch 21/50\n",
            "20/20 - 0s - loss: 0.0145 - y1_output_loss: 0.0073 - y2_output_loss: 0.0071 - y1_output_root_mean_squared_error: 0.0855 - y2_output_root_mean_squared_error: 0.0845 - val_loss: 0.0154 - val_y1_output_loss: 0.0078 - val_y2_output_loss: 0.0076 - val_y1_output_root_mean_squared_error: 0.0885 - val_y2_output_root_mean_squared_error: 0.0872\n",
            "Epoch 22/50\n",
            "20/20 - 0s - loss: 0.0144 - y1_output_loss: 0.0073 - y2_output_loss: 0.0071 - y1_output_root_mean_squared_error: 0.0856 - y2_output_root_mean_squared_error: 0.0843 - val_loss: 0.0150 - val_y1_output_loss: 0.0075 - val_y2_output_loss: 0.0075 - val_y1_output_root_mean_squared_error: 0.0866 - val_y2_output_root_mean_squared_error: 0.0863\n",
            "Epoch 23/50\n",
            "20/20 - 0s - loss: 0.0143 - y1_output_loss: 0.0072 - y2_output_loss: 0.0071 - y1_output_root_mean_squared_error: 0.0851 - y2_output_root_mean_squared_error: 0.0842 - val_loss: 0.0145 - val_y1_output_loss: 0.0073 - val_y2_output_loss: 0.0073 - val_y1_output_root_mean_squared_error: 0.0854 - val_y2_output_root_mean_squared_error: 0.0852\n",
            "Epoch 24/50\n",
            "20/20 - 0s - loss: 0.0140 - y1_output_loss: 0.0071 - y2_output_loss: 0.0069 - y1_output_root_mean_squared_error: 0.0841 - y2_output_root_mean_squared_error: 0.0830 - val_loss: 0.0143 - val_y1_output_loss: 0.0072 - val_y2_output_loss: 0.0071 - val_y1_output_root_mean_squared_error: 0.0849 - val_y2_output_root_mean_squared_error: 0.0844\n",
            "Epoch 25/50\n",
            "20/20 - 0s - loss: 0.0143 - y1_output_loss: 0.0073 - y2_output_loss: 0.0070 - y1_output_root_mean_squared_error: 0.0854 - y2_output_root_mean_squared_error: 0.0839 - val_loss: 0.0143 - val_y1_output_loss: 0.0072 - val_y2_output_loss: 0.0071 - val_y1_output_root_mean_squared_error: 0.0849 - val_y2_output_root_mean_squared_error: 0.0844\n",
            "Epoch 26/50\n",
            "20/20 - 0s - loss: 0.0141 - y1_output_loss: 0.0072 - y2_output_loss: 0.0069 - y1_output_root_mean_squared_error: 0.0848 - y2_output_root_mean_squared_error: 0.0832 - val_loss: 0.0146 - val_y1_output_loss: 0.0073 - val_y2_output_loss: 0.0073 - val_y1_output_root_mean_squared_error: 0.0855 - val_y2_output_root_mean_squared_error: 0.0856\n",
            "Epoch 27/50\n",
            "20/20 - 0s - loss: 0.0141 - y1_output_loss: 0.0072 - y2_output_loss: 0.0069 - y1_output_root_mean_squared_error: 0.0846 - y2_output_root_mean_squared_error: 0.0833 - val_loss: 0.0150 - val_y1_output_loss: 0.0076 - val_y2_output_loss: 0.0075 - val_y1_output_root_mean_squared_error: 0.0869 - val_y2_output_root_mean_squared_error: 0.0864\n",
            "Epoch 28/50\n",
            "20/20 - 0s - loss: 0.0141 - y1_output_loss: 0.0071 - y2_output_loss: 0.0070 - y1_output_root_mean_squared_error: 0.0843 - y2_output_root_mean_squared_error: 0.0835 - val_loss: 0.0139 - val_y1_output_loss: 0.0070 - val_y2_output_loss: 0.0069 - val_y1_output_root_mean_squared_error: 0.0835 - val_y2_output_root_mean_squared_error: 0.0831\n",
            "Epoch 29/50\n",
            "20/20 - 0s - loss: 0.0136 - y1_output_loss: 0.0069 - y2_output_loss: 0.0067 - y1_output_root_mean_squared_error: 0.0831 - y2_output_root_mean_squared_error: 0.0818 - val_loss: 0.0137 - val_y1_output_loss: 0.0069 - val_y2_output_loss: 0.0068 - val_y1_output_root_mean_squared_error: 0.0832 - val_y2_output_root_mean_squared_error: 0.0823\n",
            "Epoch 30/50\n",
            "20/20 - 0s - loss: 0.0134 - y1_output_loss: 0.0068 - y2_output_loss: 0.0066 - y1_output_root_mean_squared_error: 0.0826 - y2_output_root_mean_squared_error: 0.0812 - val_loss: 0.0138 - val_y1_output_loss: 0.0070 - val_y2_output_loss: 0.0069 - val_y1_output_root_mean_squared_error: 0.0834 - val_y2_output_root_mean_squared_error: 0.0828\n",
            "Epoch 31/50\n",
            "20/20 - 0s - loss: 0.0134 - y1_output_loss: 0.0068 - y2_output_loss: 0.0066 - y1_output_root_mean_squared_error: 0.0825 - y2_output_root_mean_squared_error: 0.0810 - val_loss: 0.0135 - val_y1_output_loss: 0.0068 - val_y2_output_loss: 0.0067 - val_y1_output_root_mean_squared_error: 0.0827 - val_y2_output_root_mean_squared_error: 0.0816\n",
            "Epoch 32/50\n",
            "20/20 - 0s - loss: 0.0134 - y1_output_loss: 0.0068 - y2_output_loss: 0.0066 - y1_output_root_mean_squared_error: 0.0825 - y2_output_root_mean_squared_error: 0.0812 - val_loss: 0.0137 - val_y1_output_loss: 0.0069 - val_y2_output_loss: 0.0068 - val_y1_output_root_mean_squared_error: 0.0830 - val_y2_output_root_mean_squared_error: 0.0825\n",
            "Epoch 33/50\n",
            "20/20 - 0s - loss: 0.0132 - y1_output_loss: 0.0067 - y2_output_loss: 0.0065 - y1_output_root_mean_squared_error: 0.0819 - y2_output_root_mean_squared_error: 0.0805 - val_loss: 0.0136 - val_y1_output_loss: 0.0069 - val_y2_output_loss: 0.0067 - val_y1_output_root_mean_squared_error: 0.0831 - val_y2_output_root_mean_squared_error: 0.0817\n",
            "Epoch 34/50\n",
            "20/20 - 0s - loss: 0.0133 - y1_output_loss: 0.0068 - y2_output_loss: 0.0065 - y1_output_root_mean_squared_error: 0.0824 - y2_output_root_mean_squared_error: 0.0809 - val_loss: 0.0147 - val_y1_output_loss: 0.0075 - val_y2_output_loss: 0.0072 - val_y1_output_root_mean_squared_error: 0.0866 - val_y2_output_root_mean_squared_error: 0.0848\n",
            "Epoch 35/50\n",
            "20/20 - 0s - loss: 0.0135 - y1_output_loss: 0.0070 - y2_output_loss: 0.0065 - y1_output_root_mean_squared_error: 0.0836 - y2_output_root_mean_squared_error: 0.0809 - val_loss: 0.0149 - val_y1_output_loss: 0.0077 - val_y2_output_loss: 0.0071 - val_y1_output_root_mean_squared_error: 0.0880 - val_y2_output_root_mean_squared_error: 0.0845\n",
            "Epoch 36/50\n",
            "20/20 - 0s - loss: 0.0128 - y1_output_loss: 0.0065 - y2_output_loss: 0.0062 - y1_output_root_mean_squared_error: 0.0808 - y2_output_root_mean_squared_error: 0.0790 - val_loss: 0.0137 - val_y1_output_loss: 0.0070 - val_y2_output_loss: 0.0067 - val_y1_output_root_mean_squared_error: 0.0838 - val_y2_output_root_mean_squared_error: 0.0819\n",
            "Epoch 37/50\n",
            "20/20 - 0s - loss: 0.0132 - y1_output_loss: 0.0068 - y2_output_loss: 0.0064 - y1_output_root_mean_squared_error: 0.0823 - y2_output_root_mean_squared_error: 0.0802 - val_loss: 0.0132 - val_y1_output_loss: 0.0067 - val_y2_output_loss: 0.0065 - val_y1_output_root_mean_squared_error: 0.0817 - val_y2_output_root_mean_squared_error: 0.0806\n",
            "Epoch 38/50\n",
            "20/20 - 0s - loss: 0.0127 - y1_output_loss: 0.0065 - y2_output_loss: 0.0062 - y1_output_root_mean_squared_error: 0.0807 - y2_output_root_mean_squared_error: 0.0787 - val_loss: 0.0129 - val_y1_output_loss: 0.0065 - val_y2_output_loss: 0.0064 - val_y1_output_root_mean_squared_error: 0.0807 - val_y2_output_root_mean_squared_error: 0.0799\n",
            "Epoch 39/50\n",
            "20/20 - 0s - loss: 0.0127 - y1_output_loss: 0.0065 - y2_output_loss: 0.0062 - y1_output_root_mean_squared_error: 0.0803 - y2_output_root_mean_squared_error: 0.0788 - val_loss: 0.0130 - val_y1_output_loss: 0.0066 - val_y2_output_loss: 0.0064 - val_y1_output_root_mean_squared_error: 0.0809 - val_y2_output_root_mean_squared_error: 0.0800\n",
            "Epoch 40/50\n",
            "20/20 - 0s - loss: 0.0128 - y1_output_loss: 0.0066 - y2_output_loss: 0.0062 - y1_output_root_mean_squared_error: 0.0811 - y2_output_root_mean_squared_error: 0.0787 - val_loss: 0.0127 - val_y1_output_loss: 0.0064 - val_y2_output_loss: 0.0062 - val_y1_output_root_mean_squared_error: 0.0801 - val_y2_output_root_mean_squared_error: 0.0790\n",
            "Epoch 41/50\n",
            "20/20 - 0s - loss: 0.0128 - y1_output_loss: 0.0065 - y2_output_loss: 0.0063 - y1_output_root_mean_squared_error: 0.0808 - y2_output_root_mean_squared_error: 0.0792 - val_loss: 0.0130 - val_y1_output_loss: 0.0066 - val_y2_output_loss: 0.0065 - val_y1_output_root_mean_squared_error: 0.0811 - val_y2_output_root_mean_squared_error: 0.0804\n",
            "Epoch 42/50\n",
            "20/20 - 0s - loss: 0.0125 - y1_output_loss: 0.0064 - y2_output_loss: 0.0061 - y1_output_root_mean_squared_error: 0.0800 - y2_output_root_mean_squared_error: 0.0779 - val_loss: 0.0127 - val_y1_output_loss: 0.0065 - val_y2_output_loss: 0.0062 - val_y1_output_root_mean_squared_error: 0.0809 - val_y2_output_root_mean_squared_error: 0.0788\n",
            "Restoring model weights from the end of the best epoch.\n",
            "Epoch 00042: early stopping\n"
          ],
          "name": "stdout"
        }
      ]
    },
    {
      "cell_type": "code",
      "metadata": {
        "colab": {
          "base_uri": "https://localhost:8080/",
          "height": 295
        },
        "id": "HwDCIGjcIaRW",
        "outputId": "f2956b68-2ae7-4c94-a7d9-8390da7436a2"
      },
      "source": [
        "plt.plot(history.history['y2_output_root_mean_squared_error'])\r\n",
        "plt.plot(history.history['val_y2_output_root_mean_squared_error'])\r\n",
        "plt.title('model loss')\r\n",
        "plt.ylabel('loss')\r\n",
        "plt.xlabel('epoch')\r\n",
        "plt.legend(['train', 'test'], loc='upper right')\r\n",
        "plt.show()"
      ],
      "execution_count": 20,
      "outputs": [
        {
          "output_type": "display_data",
          "data": {
            "image/png": "[encoded data removed]",
            "text/plain": [
              "<Figure size 432x288 with 1 Axes>"
            ]
          },
          "metadata": {
            "tags": [],
            "needs_background": "light"
          }
        }
      ]
    },
    {
      "cell_type": "code",
      "metadata": {
        "id": "1yeY5gl4JMYU"
      },
      "source": [
        "y_pred = model.predict(X_test)\r\n"
      ],
      "execution_count": 27,
      "outputs": []
    },
    {
      "cell_type": "code",
      "metadata": {
        "id": "XLdGMhzaJ3wQ"
      },
      "source": [
        "y_pred = y_pred.reshape(y_pred.shape[0], 2)"
      ],
      "execution_count": null,
      "outputs": []
    },
    {
      "cell_type": "code",
      "metadata": {
        "id": "Uv02zshxKUWO"
      },
      "source": [
        "y_pred[-5:]"
      ],
      "execution_count": null,
      "outputs": []
    },
    {
      "cell_type": "code",
      "metadata": {
        "id": "fz-4sz1uM8mx"
      },
      "source": [
        "y_pred_orig = scaler.inverse_transform(y_pred)\r\n",
        "y_pred_orig[-5:]"
      ],
      "execution_count": null,
      "outputs": []
    }
  ]
}